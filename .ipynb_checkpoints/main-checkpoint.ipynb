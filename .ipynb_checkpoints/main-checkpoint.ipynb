{
 "cells": [
  {
   "cell_type": "code",
   "execution_count": 11,
   "id": "b6093177",
   "metadata": {},
   "outputs": [],
   "source": [
    "import pandas as pd\n",
    "import os"
   ]
  },
  {
   "cell_type": "code",
   "execution_count": null,
   "id": "6ea96239",
   "metadata": {},
   "outputs": [],
   "source": [
    "def createData():\n",
    "    "
   ]
  },
  {
   "cell_type": "code",
   "execution_count": 12,
   "id": "d00164f1",
   "metadata": {},
   "outputs": [
    {
     "data": {
      "text/html": [
       "<div>\n",
       "<style scoped>\n",
       "    .dataframe tbody tr th:only-of-type {\n",
       "        vertical-align: middle;\n",
       "    }\n",
       "\n",
       "    .dataframe tbody tr th {\n",
       "        vertical-align: top;\n",
       "    }\n",
       "\n",
       "    .dataframe thead th {\n",
       "        text-align: right;\n",
       "    }\n",
       "</style>\n",
       "<table border=\"1\" class=\"dataframe\">\n",
       "  <thead>\n",
       "    <tr style=\"text-align: right;\">\n",
       "      <th></th>\n",
       "      <th>Rk</th>\n",
       "      <th>Squad</th>\n",
       "      <th>MP</th>\n",
       "      <th>W</th>\n",
       "      <th>L</th>\n",
       "      <th>GF</th>\n",
       "      <th>GA</th>\n",
       "      <th>GD</th>\n",
       "      <th>Pts</th>\n",
       "      <th>Pts/MP</th>\n",
       "      <th>Last 5</th>\n",
       "      <th>Top Team Scorer</th>\n",
       "    </tr>\n",
       "  </thead>\n",
       "  <tbody>\n",
       "    <tr>\n",
       "      <th>0</th>\n",
       "      <td>1</td>\n",
       "      <td>Manchester City</td>\n",
       "      <td>12</td>\n",
       "      <td>9</td>\n",
       "      <td>2</td>\n",
       "      <td>32</td>\n",
       "      <td>12</td>\n",
       "      <td>20</td>\n",
       "      <td>28</td>\n",
       "      <td>2.33</td>\n",
       "      <td>L W W W D</td>\n",
       "      <td>Erling Haaland - 13</td>\n",
       "    </tr>\n",
       "    <tr>\n",
       "      <th>1</th>\n",
       "      <td>2</td>\n",
       "      <td>Liverpool</td>\n",
       "      <td>12</td>\n",
       "      <td>8</td>\n",
       "      <td>1</td>\n",
       "      <td>27</td>\n",
       "      <td>10</td>\n",
       "      <td>17</td>\n",
       "      <td>27</td>\n",
       "      <td>2.25</td>\n",
       "      <td>D W W D W</td>\n",
       "      <td>Mohamed Salah - 10</td>\n",
       "    </tr>\n",
       "    <tr>\n",
       "      <th>2</th>\n",
       "      <td>3</td>\n",
       "      <td>Arsenal</td>\n",
       "      <td>12</td>\n",
       "      <td>8</td>\n",
       "      <td>1</td>\n",
       "      <td>26</td>\n",
       "      <td>10</td>\n",
       "      <td>16</td>\n",
       "      <td>27</td>\n",
       "      <td>2.25</td>\n",
       "      <td>W D W L W</td>\n",
       "      <td>Eddie Nketiah - 5</td>\n",
       "    </tr>\n",
       "    <tr>\n",
       "      <th>3</th>\n",
       "      <td>4</td>\n",
       "      <td>Tottenham</td>\n",
       "      <td>12</td>\n",
       "      <td>8</td>\n",
       "      <td>2</td>\n",
       "      <td>24</td>\n",
       "      <td>15</td>\n",
       "      <td>9</td>\n",
       "      <td>26</td>\n",
       "      <td>2.17</td>\n",
       "      <td>W W W L L</td>\n",
       "      <td>Son Heung-min - 8</td>\n",
       "    </tr>\n",
       "    <tr>\n",
       "      <th>4</th>\n",
       "      <td>5</td>\n",
       "      <td>Aston Villa</td>\n",
       "      <td>12</td>\n",
       "      <td>8</td>\n",
       "      <td>3</td>\n",
       "      <td>29</td>\n",
       "      <td>17</td>\n",
       "      <td>12</td>\n",
       "      <td>25</td>\n",
       "      <td>2.08</td>\n",
       "      <td>D W W L W</td>\n",
       "      <td>Ollie Watkins - 6</td>\n",
       "    </tr>\n",
       "  </tbody>\n",
       "</table>\n",
       "</div>"
      ],
      "text/plain": [
       "   Rk            Squad  MP  W  L  GF  GA  GD  Pts  Pts/MP     Last 5  \\\n",
       "0   1  Manchester City  12  9  2  32  12  20   28    2.33  L W W W D   \n",
       "1   2        Liverpool  12  8  1  27  10  17   27    2.25  D W W D W   \n",
       "2   3          Arsenal  12  8  1  26  10  16   27    2.25  W D W L W   \n",
       "3   4        Tottenham  12  8  2  24  15   9   26    2.17  W W W L L   \n",
       "4   5      Aston Villa  12  8  3  29  17  12   25    2.08  D W W L W   \n",
       "\n",
       "       Top Team Scorer  \n",
       "0  Erling Haaland - 13  \n",
       "1   Mohamed Salah - 10  \n",
       "2    Eddie Nketiah - 5  \n",
       "3    Son Heung-min - 8  \n",
       "4    Ollie Watkins - 6  "
      ]
     },
     "execution_count": 12,
     "metadata": {},
     "output_type": "execute_result"
    }
   ],
   "source": [
    "premier_league_url = \"https://fbref.com/en/comps/9/Premier-League-Stats\"\n",
    "\n",
    "prem_league_df = pd.read_html(premier_league_url)[0]\n",
    "prem_columns = [\"Rk\", \"Squad\", \"MP\", \"W\", \"L\", \"GF\", \"GA\", \"GD\", \"Pts\", \"Pts/MP\", \"Last 5\", \"Top Team Scorer\"]\n",
    "prem_df = prem_league_df[prem_columns]\n",
    "prem_df.head()"
   ]
  },
  {
   "cell_type": "code",
   "execution_count": 13,
   "id": "20528d37",
   "metadata": {},
   "outputs": [],
   "source": [
    "def split_column(row):\n",
    "    values = row['Top Team Scorer'].split('-')\n",
    "    if(len(values)==2):\n",
    "        return pd.Series({'Top_Team_Scorer_Name': values[0], 'Top_Team_Scorer_Num_Goals': values[1]})\n",
    "    else:\n",
    "        return pd.Series({'Top_Team_Scorer_Name': values[0], 'Top_Team_Scorer_Num_Goals': values[2]})\n",
    "\n",
    "prem_df = pd.concat([prem_df, prem_df.apply(split_column, axis=1)], axis=1)\n",
    "prem_df = prem_df.loc[:, prem_df.columns!='Top Team Scorer']"
   ]
  },
  {
   "cell_type": "code",
   "execution_count": 16,
   "id": "5de0c2d2",
   "metadata": {},
   "outputs": [
    {
     "name": "stdout",
     "output_type": "stream",
     "text": [
      "True\n"
     ]
    }
   ],
   "source": [
    "if(prem_df[\"MP\"].nunique() == 1):\n",
    "    print(True)\n",
    "    folder_path = 'data'\n",
    "    os.makedirs(folder_path, exist_ok=True)\n",
    "\n",
    "    file_path = os.path.join(folder_path, \"week\" + str(prem_df[\"MP\"].iloc[0]) + \".csv\")\n",
    "    prem_df.to_csv(file_path, index=False)\n",
    "else:\n",
    "    print(False)"
   ]
  },
  {
   "cell_type": "code",
   "execution_count": null,
   "id": "3365e65a",
   "metadata": {},
   "outputs": [],
   "source": []
  },
  {
   "cell_type": "code",
   "execution_count": null,
   "id": "ff6949e8",
   "metadata": {},
   "outputs": [],
   "source": []
  }
 ],
 "metadata": {
  "kernelspec": {
   "display_name": "Python 3 (ipykernel)",
   "language": "python",
   "name": "python3"
  },
  "language_info": {
   "codemirror_mode": {
    "name": "ipython",
    "version": 3
   },
   "file_extension": ".py",
   "mimetype": "text/x-python",
   "name": "python",
   "nbconvert_exporter": "python",
   "pygments_lexer": "ipython3",
   "version": "3.11.5"
  }
 },
 "nbformat": 4,
 "nbformat_minor": 5
}
